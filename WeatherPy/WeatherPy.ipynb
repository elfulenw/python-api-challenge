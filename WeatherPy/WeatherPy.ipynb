{
 "cells": [
  {
   "cell_type": "markdown",
   "metadata": {},
   "source": [
    "# WeatherPy\n",
    "----\n",
    "\n",
    "#### Note\n",
    "* Instructions have been included for each segment. You do not have to follow them exactly, but they are included to help you think through the steps."
   ]
  },
  {
   "cell_type": "code",
   "execution_count": 1,
   "metadata": {
    "scrolled": true
   },
   "outputs": [],
   "source": [
    "# Dependencies and Setup\n",
    "import matplotlib.pyplot as plt\n",
    "import pandas as pd\n",
    "import numpy as np\n",
    "import requests\n",
    "import json\n",
    "import time\n",
    "from scipy.stats import linregress\n",
    "import scipy.stats as st\n",
    "\n",
    "# Import API key\n",
    "from api_keys import weather_api_key\n",
    "\n",
    "# Incorporated citipy to determine city based on latitude and longitude\n",
    "from citipy import citipy\n",
    "\n",
    "# Output File (CSV)\n",
    "output_data_file = \"output_data/cities.csv\"\n",
    "\n",
    "# Range of latitudes and longitudes\n",
    "lat_range = (-90, 90)\n",
    "lng_range = (-180, 180)"
   ]
  },
  {
   "cell_type": "markdown",
   "metadata": {},
   "source": [
    "## Generate Cities List"
   ]
  },
  {
   "cell_type": "code",
   "execution_count": 2,
   "metadata": {},
   "outputs": [
    {
     "data": {
      "text/plain": [
       "622"
      ]
     },
     "execution_count": 2,
     "metadata": {},
     "output_type": "execute_result"
    }
   ],
   "source": [
    "# List for holding lat_lngs and cities\n",
    "lat_lngs = []\n",
    "cities = []\n",
    "\n",
    "# Create a set of random lat and lng combinations\n",
    "lats = np.random.uniform(lat_range[0], lat_range[1], size=1500)\n",
    "lngs = np.random.uniform(lng_range[0], lng_range[1], size=1500)\n",
    "lat_lngs = zip(lats, lngs)\n",
    "\n",
    "# Identify nearest city for each lat, lng combination\n",
    "for lat_lng in lat_lngs:\n",
    "    city = citipy.nearest_city(lat_lng[0], lat_lng[1]).city_name\n",
    "    \n",
    "    # If the city is unique, then add it to a our cities list\n",
    "    if city not in cities:\n",
    "        cities.append(city)\n",
    "\n",
    "# Print the city count to confirm sufficient count\n",
    "len(cities)"
   ]
  },
  {
   "cell_type": "markdown",
   "metadata": {},
   "source": [
    "### Perform API Calls\n",
    "* Perform a weather check on each city using a series of successive API calls.\n",
    "* Include a print log of each city as it'sbeing processed (with the city number and city name).\n"
   ]
  },
  {
   "cell_type": "code",
   "execution_count": 3,
   "metadata": {},
   "outputs": [
    {
     "name": "stdout",
     "output_type": "stream",
     "text": [
      "Beginning Data Retrieval\n",
      "-----------------------------\n",
      "Processing Record 1 of Set 1 | the valley\n",
      "Processing Record 2 of Set 1 | vaini\n",
      "Processing Record 3 of Set 1 | ishinomaki\n",
      "Processing Record 4 of Set 1 | atar\n",
      "Processing Record 5 of Set 1 | severo-kurilsk\n",
      "Processing Record 6 of Set 1 | farafangana\n",
      "Processing Record 7 of Set 1 | illoqqortoormiut\n",
      "City was not found.  Skipping...\n",
      "Processing Record 8 of Set 1 | mar del plata\n",
      "Processing Record 9 of Set 1 | amderma\n",
      "City was not found.  Skipping...\n",
      "Processing Record 10 of Set 1 | bengkulu\n",
      "Processing Record 11 of Set 1 | ayan\n",
      "Processing Record 12 of Set 1 | hilo\n",
      "Processing Record 13 of Set 1 | lasa\n",
      "Processing Record 14 of Set 1 | east london\n",
      "Processing Record 15 of Set 1 | hobart\n",
      "Processing Record 16 of Set 1 | plouzane\n",
      "Processing Record 17 of Set 1 | moose factory\n",
      "Processing Record 18 of Set 1 | saldanha\n",
      "Processing Record 19 of Set 1 | atuona\n",
      "Processing Record 20 of Set 1 | carnarvon\n",
      "Processing Record 21 of Set 1 | loyga\n",
      "Processing Record 22 of Set 1 | qaanaaq\n",
      "Processing Record 23 of Set 1 | zhigansk\n",
      "Processing Record 24 of Set 1 | clyde river\n",
      "Processing Record 25 of Set 1 | albany\n",
      "Processing Record 26 of Set 1 | cayenne\n",
      "Processing Record 27 of Set 1 | malwan\n",
      "City was not found.  Skipping...\n",
      "Processing Record 28 of Set 1 | busselton\n",
      "Processing Record 29 of Set 1 | puerto ayora\n",
      "Processing Record 30 of Set 1 | punta arenas\n",
      "Processing Record 31 of Set 1 | tasiilaq\n",
      "Processing Record 32 of Set 1 | kaitangata\n",
      "Processing Record 33 of Set 1 | chuy\n",
      "Processing Record 34 of Set 1 | rikitea\n",
      "Processing Record 35 of Set 1 | port alfred\n",
      "Processing Record 36 of Set 1 | ruatoria\n",
      "City was not found.  Skipping...\n",
      "Processing Record 37 of Set 1 | chaihe\n",
      "Processing Record 38 of Set 1 | hermanus\n",
      "Processing Record 39 of Set 1 | champerico\n",
      "Processing Record 40 of Set 1 | yellowknife\n",
      "Processing Record 41 of Set 1 | nishihara\n",
      "Processing Record 42 of Set 1 | roald\n",
      "Processing Record 43 of Set 1 | lorengau\n",
      "Processing Record 44 of Set 1 | avarua\n",
      "Processing Record 45 of Set 1 | attawapiskat\n",
      "City was not found.  Skipping...\n",
      "Processing Record 46 of Set 1 | victoria\n",
      "Processing Record 47 of Set 1 | norman wells\n",
      "Processing Record 48 of Set 1 | narasannapeta\n",
      "Processing Record 49 of Set 1 | kavaratti\n",
      "Processing Record 50 of Set 1 | leh\n",
      "Processing Record 1 of Set 2 | cairns\n",
      "Processing Record 2 of Set 2 | butaritari\n",
      "Processing Record 3 of Set 2 | jamestown\n",
      "Processing Record 4 of Set 2 | tahoua\n",
      "Processing Record 5 of Set 2 | lebu\n",
      "Processing Record 6 of Set 2 | pingzhuang\n",
      "Processing Record 7 of Set 2 | lichinga\n",
      "Processing Record 8 of Set 2 | mys shmidta\n",
      "City was not found.  Skipping...\n",
      "Processing Record 9 of Set 2 | berlevag\n",
      "Processing Record 10 of Set 2 | vaitupu\n",
      "City was not found.  Skipping...\n",
      "Processing Record 11 of Set 2 | provideniya\n",
      "Processing Record 12 of Set 2 | pokhara\n",
      "Processing Record 13 of Set 2 | souillac\n",
      "Processing Record 14 of Set 2 | upernavik\n",
      "Processing Record 15 of Set 2 | margate\n",
      "Processing Record 16 of Set 2 | benevides\n",
      "Processing Record 17 of Set 2 | bluff\n",
      "Processing Record 18 of Set 2 | urfa\n",
      "City was not found.  Skipping...\n",
      "Processing Record 19 of Set 2 | esperance\n",
      "Processing Record 20 of Set 2 | elko\n",
      "Processing Record 21 of Set 2 | bambous virieux\n",
      "Processing Record 22 of Set 2 | saint helens\n",
      "Processing Record 23 of Set 2 | road town\n",
      "Processing Record 24 of Set 2 | kamina\n",
      "Processing Record 25 of Set 2 | nanakuli\n",
      "Processing Record 26 of Set 2 | mataura\n",
      "Processing Record 27 of Set 2 | flin flon\n",
      "Processing Record 28 of Set 2 | muros\n",
      "Processing Record 29 of Set 2 | huarmey\n",
      "Processing Record 30 of Set 2 | taolanaro\n",
      "City was not found.  Skipping...\n",
      "Processing Record 31 of Set 2 | ponta do sol\n",
      "Processing Record 32 of Set 2 | ushuaia\n",
      "Processing Record 33 of Set 2 | dunedin\n",
      "Processing Record 34 of Set 2 | barentsburg\n",
      "City was not found.  Skipping...\n",
      "Processing Record 35 of Set 2 | vostok\n",
      "Processing Record 36 of Set 2 | sentyabrskiy\n",
      "City was not found.  Skipping...\n",
      "Processing Record 37 of Set 2 | utiroa\n",
      "City was not found.  Skipping...\n",
      "Processing Record 38 of Set 2 | broome\n",
      "Processing Record 39 of Set 2 | alwar\n",
      "Processing Record 40 of Set 2 | kolpny\n",
      "Processing Record 41 of Set 2 | la ronge\n",
      "Processing Record 42 of Set 2 | yarega\n",
      "Processing Record 43 of Set 2 | port lincoln\n",
      "Processing Record 44 of Set 2 | bonthe\n",
      "Processing Record 45 of Set 2 | tuktoyaktuk\n",
      "Processing Record 46 of Set 2 | coquimbo\n",
      "Processing Record 47 of Set 2 | viedma\n",
      "Processing Record 48 of Set 2 | itarema\n",
      "Processing Record 49 of Set 2 | althofen\n",
      "Processing Record 50 of Set 2 | jalu\n",
      "Processing Record 1 of Set 3 | cape town\n",
      "Processing Record 2 of Set 3 | lompoc\n",
      "Processing Record 3 of Set 3 | airai\n",
      "Processing Record 4 of Set 3 | castro\n",
      "Processing Record 5 of Set 3 | grand river south east\n",
      "City was not found.  Skipping...\n",
      "Processing Record 6 of Set 3 | barrow\n",
      "Processing Record 7 of Set 3 | piterka\n",
      "Processing Record 8 of Set 3 | hithadhoo\n",
      "Processing Record 9 of Set 3 | coihaique\n",
      "Processing Record 10 of Set 3 | nouakchott\n",
      "Processing Record 11 of Set 3 | halifax\n",
      "Processing Record 12 of Set 3 | leningradskiy\n",
      "Processing Record 13 of Set 3 | half moon bay\n",
      "Processing Record 14 of Set 3 | alexandria\n",
      "Processing Record 15 of Set 3 | cherskiy\n",
      "Processing Record 16 of Set 3 | sibolga\n",
      "Processing Record 17 of Set 3 | nantucket\n",
      "Processing Record 18 of Set 3 | kapaa\n",
      "Processing Record 19 of Set 3 | faya\n",
      "Processing Record 20 of Set 3 | kraljevo\n",
      "Processing Record 21 of Set 3 | marcona\n",
      "City was not found.  Skipping...\n",
      "Processing Record 22 of Set 3 | saint-philippe\n",
      "Processing Record 23 of Set 3 | new norfolk\n",
      "Processing Record 24 of Set 3 | ribeira grande\n",
      "Processing Record 25 of Set 3 | sirsilla\n",
      "Processing Record 26 of Set 3 | celestun\n",
      "Processing Record 27 of Set 3 | luang prabang\n",
      "Processing Record 28 of Set 3 | saskylakh\n",
      "Processing Record 29 of Set 3 | san juan\n",
      "Processing Record 30 of Set 3 | cidreira\n",
      "Processing Record 31 of Set 3 | sept-iles\n",
      "Processing Record 32 of Set 3 | takanabe\n",
      "Processing Record 33 of Set 3 | tura\n",
      "Processing Record 34 of Set 3 | plaster rock\n",
      "Processing Record 35 of Set 3 | ambon\n",
      "Processing Record 36 of Set 3 | zanjan\n",
      "Processing Record 37 of Set 3 | grand gaube\n",
      "Processing Record 38 of Set 3 | iberia\n",
      "Processing Record 39 of Set 3 | pangnirtung\n",
      "Processing Record 40 of Set 3 | georgetown\n",
      "Processing Record 41 of Set 3 | faanui\n",
      "Processing Record 42 of Set 3 | bredasdorp\n",
      "Processing Record 43 of Set 3 | hualmay\n",
      "Processing Record 44 of Set 3 | viransehir\n",
      "Processing Record 45 of Set 3 | ancud\n",
      "Processing Record 46 of Set 3 | codrington\n",
      "Processing Record 47 of Set 3 | ndago\n",
      "Processing Record 48 of Set 3 | tambura\n",
      "Processing Record 49 of Set 3 | paracuru\n",
      "Processing Record 50 of Set 3 | oberasbach\n",
      "Processing Record 1 of Set 4 | hervey bay\n",
      "Processing Record 2 of Set 4 | san quintin\n",
      "Processing Record 3 of Set 4 | nizhneyansk\n",
      "City was not found.  Skipping...\n",
      "Processing Record 4 of Set 4 | samusu\n",
      "City was not found.  Skipping...\n",
      "Processing Record 5 of Set 4 | marsh harbour\n",
      "Processing Record 6 of Set 4 | thompson\n",
      "Processing Record 7 of Set 4 | kapit\n",
      "Processing Record 8 of Set 4 | batagay\n",
      "Processing Record 9 of Set 4 | kaa-khem\n",
      "Processing Record 10 of Set 4 | srednekolymsk\n",
      "Processing Record 11 of Set 4 | adrar\n",
      "Processing Record 12 of Set 4 | lagoa\n",
      "Processing Record 13 of Set 4 | shingu\n",
      "Processing Record 14 of Set 4 | sao filipe\n",
      "Processing Record 15 of Set 4 | dingle\n",
      "Processing Record 16 of Set 4 | belushya guba\n",
      "City was not found.  Skipping...\n",
      "Processing Record 17 of Set 4 | san jose\n",
      "Processing Record 18 of Set 4 | bethel\n",
      "Processing Record 19 of Set 4 | mayo\n",
      "Processing Record 20 of Set 4 | boa vista\n",
      "Processing Record 21 of Set 4 | sisimiut\n",
      "Processing Record 22 of Set 4 | husavik\n",
      "Processing Record 23 of Set 4 | ostrovnoy\n",
      "Processing Record 24 of Set 4 | narsaq\n",
      "Processing Record 25 of Set 4 | soyo\n",
      "Processing Record 26 of Set 4 | nikolskoye\n",
      "Processing Record 27 of Set 4 | arraial do cabo\n",
      "Processing Record 28 of Set 4 | tungkang\n",
      "City was not found.  Skipping...\n",
      "Processing Record 29 of Set 4 | serik\n",
      "Processing Record 30 of Set 4 | lata\n",
      "Processing Record 31 of Set 4 | acapulco\n",
      "Processing Record 32 of Set 4 | ahipara\n",
      "Processing Record 33 of Set 4 | allahganj\n",
      "Processing Record 34 of Set 4 | batemans bay\n"
     ]
    },
    {
     "name": "stdout",
     "output_type": "stream",
     "text": [
      "Processing Record 35 of Set 4 | asau\n",
      "Processing Record 36 of Set 4 | dikson\n",
      "Processing Record 37 of Set 4 | pevek\n",
      "Processing Record 38 of Set 4 | tezu\n",
      "Processing Record 39 of Set 4 | meulaboh\n",
      "Processing Record 40 of Set 4 | port elizabeth\n",
      "Processing Record 41 of Set 4 | coahuayana\n",
      "Processing Record 42 of Set 4 | floro\n",
      "Processing Record 43 of Set 4 | santa isabel do rio negro\n",
      "Processing Record 44 of Set 4 | guerrero negro\n",
      "Processing Record 45 of Set 4 | carcassonne\n",
      "Processing Record 46 of Set 4 | podgorica\n",
      "Processing Record 47 of Set 4 | port blair\n",
      "Processing Record 48 of Set 4 | pisco\n",
      "Processing Record 49 of Set 4 | khatanga\n",
      "Processing Record 50 of Set 4 | jining\n",
      "Processing Record 1 of Set 5 | katsuura\n",
      "Processing Record 2 of Set 5 | opuwo\n",
      "Processing Record 3 of Set 5 | shirgaon\n",
      "Processing Record 4 of Set 5 | nome\n",
      "Processing Record 5 of Set 5 | saleaula\n",
      "City was not found.  Skipping...\n",
      "Processing Record 6 of Set 5 | sandnessjoen\n",
      "Processing Record 7 of Set 5 | seymchan\n",
      "Processing Record 8 of Set 5 | ye\n",
      "City was not found.  Skipping...\n",
      "Processing Record 9 of Set 5 | meadow lake\n",
      "Processing Record 10 of Set 5 | hay river\n",
      "Processing Record 11 of Set 5 | sitka\n",
      "Processing Record 12 of Set 5 | pocone\n",
      "Processing Record 13 of Set 5 | saryg-sep\n",
      "Processing Record 14 of Set 5 | kavieng\n",
      "Processing Record 15 of Set 5 | jiroft\n",
      "City was not found.  Skipping...\n",
      "Processing Record 16 of Set 5 | geraldton\n",
      "Processing Record 17 of Set 5 | corinto\n",
      "Processing Record 18 of Set 5 | tumpat\n",
      "Processing Record 19 of Set 5 | nichinan\n",
      "Processing Record 20 of Set 5 | deputatskiy\n",
      "Processing Record 21 of Set 5 | middleton\n",
      "Processing Record 22 of Set 5 | grants\n",
      "Processing Record 23 of Set 5 | nhulunbuy\n",
      "Processing Record 24 of Set 5 | port-de-paix\n",
      "City was not found.  Skipping...\n",
      "Processing Record 25 of Set 5 | bukachacha\n",
      "Processing Record 26 of Set 5 | mount gambier\n",
      "Processing Record 27 of Set 5 | porto novo\n",
      "Processing Record 28 of Set 5 | camp verde\n",
      "Processing Record 29 of Set 5 | tabiauea\n",
      "City was not found.  Skipping...\n",
      "Processing Record 30 of Set 5 | chokurdakh\n",
      "Processing Record 31 of Set 5 | kruisfontein\n",
      "Processing Record 32 of Set 5 | mirnyy\n",
      "Processing Record 33 of Set 5 | beeville\n",
      "Processing Record 34 of Set 5 | yangambi\n",
      "Processing Record 35 of Set 5 | bontang\n",
      "Processing Record 36 of Set 5 | vila franca do campo\n",
      "Processing Record 37 of Set 5 | xinyu\n",
      "Processing Record 38 of Set 5 | college\n",
      "Processing Record 39 of Set 5 | beringovskiy\n",
      "Processing Record 40 of Set 5 | sanming\n",
      "Processing Record 41 of Set 5 | seydi\n",
      "Processing Record 42 of Set 5 | stephenville\n",
      "Processing Record 43 of Set 5 | sudova vyshnya\n",
      "Processing Record 44 of Set 5 | luderitz\n",
      "Processing Record 45 of Set 5 | amapa\n",
      "Processing Record 46 of Set 5 | amalapuram\n",
      "Processing Record 47 of Set 5 | denpasar\n",
      "Processing Record 48 of Set 5 | manzanillo\n",
      "Processing Record 49 of Set 5 | debre tabor\n",
      "Processing Record 50 of Set 5 | russell\n",
      "Processing Record 1 of Set 6 | svetlaya\n",
      "Processing Record 2 of Set 6 | marzuq\n",
      "Processing Record 3 of Set 6 | sotouboua\n",
      "Processing Record 4 of Set 6 | kudat\n",
      "Processing Record 5 of Set 6 | hayden\n",
      "Processing Record 6 of Set 6 | komsomolskiy\n",
      "Processing Record 7 of Set 6 | namibe\n",
      "Processing Record 8 of Set 6 | pacific grove\n",
      "Processing Record 9 of Set 6 | vestmannaeyjar\n",
      "Processing Record 10 of Set 6 | boyolangu\n",
      "Processing Record 11 of Set 6 | lazaro cardenas\n",
      "Processing Record 12 of Set 6 | waingapu\n",
      "Processing Record 13 of Set 6 | juneau\n",
      "Processing Record 14 of Set 6 | hamilton\n",
      "Processing Record 15 of Set 6 | salinas\n",
      "Processing Record 16 of Set 6 | auki\n",
      "Processing Record 17 of Set 6 | edd\n",
      "Processing Record 18 of Set 6 | cabo san lucas\n",
      "Processing Record 19 of Set 6 | boysun\n",
      "Processing Record 20 of Set 6 | alyangula\n",
      "Processing Record 21 of Set 6 | torbay\n",
      "Processing Record 22 of Set 6 | cockburn town\n",
      "Processing Record 23 of Set 6 | namatanai\n",
      "Processing Record 24 of Set 6 | longlac\n",
      "City was not found.  Skipping...\n",
      "Processing Record 25 of Set 6 | suileng\n",
      "Processing Record 26 of Set 6 | sapele\n",
      "Processing Record 27 of Set 6 | broken hill\n",
      "Processing Record 28 of Set 6 | tuatapere\n",
      "Processing Record 29 of Set 6 | lima\n",
      "Processing Record 30 of Set 6 | phetchaburi\n",
      "Processing Record 31 of Set 6 | gangotri\n",
      "City was not found.  Skipping...\n",
      "Processing Record 32 of Set 6 | vytegra\n",
      "Processing Record 33 of Set 6 | tocopilla\n",
      "Processing Record 34 of Set 6 | mecca\n",
      "Processing Record 35 of Set 6 | bichena\n",
      "Processing Record 36 of Set 6 | vila velha\n",
      "Processing Record 37 of Set 6 | eugene\n",
      "Processing Record 38 of Set 6 | nokaneng\n",
      "Processing Record 39 of Set 6 | kanadey\n",
      "Processing Record 40 of Set 6 | bhanpuri\n",
      "Processing Record 41 of Set 6 | iqaluit\n",
      "Processing Record 42 of Set 6 | saint simons\n",
      "Processing Record 43 of Set 6 | narrabri\n",
      "Processing Record 44 of Set 6 | mahebourg\n",
      "Processing Record 45 of Set 6 | kalispell\n",
      "Processing Record 46 of Set 6 | boueni\n",
      "Processing Record 47 of Set 6 | touros\n",
      "Processing Record 48 of Set 6 | roebourne\n",
      "Processing Record 49 of Set 6 | floresti\n",
      "Processing Record 50 of Set 6 | puri\n",
      "Processing Record 1 of Set 7 | hasaki\n",
      "Processing Record 2 of Set 7 | chumikan\n",
      "Processing Record 3 of Set 7 | doha\n",
      "Processing Record 4 of Set 7 | trinidad\n",
      "Processing Record 5 of Set 7 | zhangye\n",
      "Processing Record 6 of Set 7 | dauphin\n",
      "Processing Record 7 of Set 7 | garden city\n",
      "Processing Record 8 of Set 7 | tevriz\n",
      "Processing Record 9 of Set 7 | parfenyevo\n",
      "Processing Record 10 of Set 7 | mago\n",
      "Processing Record 11 of Set 7 | araouane\n",
      "Processing Record 12 of Set 7 | kozhva\n",
      "Processing Record 13 of Set 7 | formosa\n",
      "Processing Record 14 of Set 7 | grand centre\n",
      "City was not found.  Skipping...\n",
      "Processing Record 15 of Set 7 | saint-augustin\n",
      "Processing Record 16 of Set 7 | nara\n",
      "Processing Record 17 of Set 7 | boli\n",
      "Processing Record 18 of Set 7 | vanderhoof\n",
      "Processing Record 19 of Set 7 | estelle\n",
      "Processing Record 20 of Set 7 | mujiayingzi\n",
      "Processing Record 21 of Set 7 | kahului\n",
      "Processing Record 22 of Set 7 | kamenka\n",
      "Processing Record 23 of Set 7 | yuzhno-yeniseyskiy\n",
      "City was not found.  Skipping...\n",
      "Processing Record 24 of Set 7 | frutal\n",
      "Processing Record 25 of Set 7 | xinzhou\n",
      "Processing Record 26 of Set 7 | azad shahr\n",
      "Processing Record 27 of Set 7 | khotiv\n",
      "Processing Record 28 of Set 7 | saint-andre-avellin\n",
      "Processing Record 29 of Set 7 | rio grande\n",
      "Processing Record 30 of Set 7 | oytal\n",
      "Processing Record 31 of Set 7 | yakeshi\n",
      "Processing Record 32 of Set 7 | pimentel\n",
      "Processing Record 33 of Set 7 | raudeberg\n",
      "Processing Record 34 of Set 7 | campbell river\n",
      "Processing Record 35 of Set 7 | kodiak\n",
      "Processing Record 36 of Set 7 | otane\n",
      "Processing Record 37 of Set 7 | cape canaveral\n",
      "Processing Record 38 of Set 7 | khonuu\n",
      "City was not found.  Skipping...\n",
      "Processing Record 39 of Set 7 | nguiu\n",
      "City was not found.  Skipping...\n",
      "Processing Record 40 of Set 7 | mezen\n",
      "Processing Record 41 of Set 7 | olafsvik\n",
      "Processing Record 42 of Set 7 | maloshuyka\n",
      "City was not found.  Skipping...\n",
      "Processing Record 43 of Set 7 | santa maria\n",
      "Processing Record 44 of Set 7 | vyskov\n",
      "Processing Record 45 of Set 7 | awjilah\n",
      "Processing Record 46 of Set 7 | byron bay\n",
      "Processing Record 47 of Set 7 | liwale\n",
      "Processing Record 48 of Set 7 | taraz\n",
      "Processing Record 49 of Set 7 | luena\n",
      "Processing Record 50 of Set 7 | candawaga\n",
      "City was not found.  Skipping...\n",
      "Processing Record 1 of Set 8 | avera\n",
      "Processing Record 2 of Set 8 | seoul\n",
      "Processing Record 3 of Set 8 | rocha\n",
      "Processing Record 4 of Set 8 | mangrol\n",
      "Processing Record 5 of Set 8 | fort nelson\n",
      "Processing Record 6 of Set 8 | nioro\n",
      "Processing Record 7 of Set 8 | kondinskoye\n",
      "Processing Record 8 of Set 8 | brenham\n",
      "Processing Record 9 of Set 8 | cacador\n",
      "Processing Record 10 of Set 8 | buta\n",
      "Processing Record 11 of Set 8 | selma\n",
      "Processing Record 12 of Set 8 | ialibu\n",
      "Processing Record 13 of Set 8 | ilulissat\n",
      "Processing Record 14 of Set 8 | assiniboia\n",
      "Processing Record 15 of Set 8 | bowen\n",
      "Processing Record 16 of Set 8 | tucuman\n",
      "Processing Record 17 of Set 8 | taldan\n",
      "Processing Record 18 of Set 8 | yulara\n",
      "Processing Record 19 of Set 8 | jidong\n",
      "Processing Record 20 of Set 8 | gold coast\n",
      "Processing Record 21 of Set 8 | katherine\n",
      "Processing Record 22 of Set 8 | praia da vitoria\n",
      "Processing Record 23 of Set 8 | mitu\n",
      "Processing Record 24 of Set 8 | perry\n"
     ]
    },
    {
     "name": "stdout",
     "output_type": "stream",
     "text": [
      "Processing Record 25 of Set 8 | shelton\n",
      "Processing Record 26 of Set 8 | klaksvik\n",
      "Processing Record 27 of Set 8 | stropkov\n",
      "Processing Record 28 of Set 8 | najran\n",
      "Processing Record 29 of Set 8 | vanimo\n",
      "Processing Record 30 of Set 8 | tidore\n",
      "City was not found.  Skipping...\n",
      "Processing Record 31 of Set 8 | longyearbyen\n",
      "Processing Record 32 of Set 8 | chara\n",
      "Processing Record 33 of Set 8 | nanortalik\n",
      "Processing Record 34 of Set 8 | hit\n",
      "Processing Record 35 of Set 8 | bundaberg\n",
      "Processing Record 36 of Set 8 | san borja\n",
      "Processing Record 37 of Set 8 | alice springs\n",
      "Processing Record 38 of Set 8 | tautira\n",
      "Processing Record 39 of Set 8 | alamogordo\n",
      "Processing Record 40 of Set 8 | nikolayevka\n",
      "Processing Record 41 of Set 8 | charkhi dadri\n",
      "Processing Record 42 of Set 8 | akaszto\n",
      "Processing Record 43 of Set 8 | baykit\n",
      "Processing Record 44 of Set 8 | belmonte\n",
      "Processing Record 45 of Set 8 | kamenskoye\n",
      "City was not found.  Skipping...\n",
      "Processing Record 46 of Set 8 | havre-saint-pierre\n",
      "Processing Record 47 of Set 8 | finnsnes\n",
      "Processing Record 48 of Set 8 | mandera\n",
      "Processing Record 49 of Set 8 | eureka\n",
      "Processing Record 50 of Set 8 | nouadhibou\n",
      "Processing Record 1 of Set 9 | portland\n",
      "Processing Record 2 of Set 9 | cam ranh\n",
      "Processing Record 3 of Set 9 | verkhoyansk\n",
      "Processing Record 4 of Set 9 | macau\n",
      "Processing Record 5 of Set 9 | san cristobal\n",
      "Processing Record 6 of Set 9 | el tigre\n",
      "Processing Record 7 of Set 9 | coxim\n",
      "Processing Record 8 of Set 9 | santo tomas\n",
      "Processing Record 9 of Set 9 | enid\n",
      "Processing Record 10 of Set 9 | maunabo\n",
      "Processing Record 11 of Set 9 | acari\n",
      "Processing Record 12 of Set 9 | warrnambool\n",
      "Processing Record 13 of Set 9 | bathsheba\n",
      "Processing Record 14 of Set 9 | talnakh\n",
      "Processing Record 15 of Set 9 | buraydah\n",
      "Processing Record 16 of Set 9 | alofi\n",
      "Processing Record 17 of Set 9 | akdepe\n",
      "Processing Record 18 of Set 9 | hanmer springs\n",
      "Processing Record 19 of Set 9 | winneba\n",
      "Processing Record 20 of Set 9 | khani\n",
      "Processing Record 21 of Set 9 | lixourion\n",
      "Processing Record 22 of Set 9 | fairbanks\n",
      "Processing Record 23 of Set 9 | mianyang\n",
      "Processing Record 24 of Set 9 | umzimvubu\n",
      "City was not found.  Skipping...\n",
      "Processing Record 25 of Set 9 | evensk\n",
      "Processing Record 26 of Set 9 | brae\n",
      "Processing Record 27 of Set 9 | tam ky\n",
      "Processing Record 28 of Set 9 | requena\n",
      "Processing Record 29 of Set 9 | dickinson\n",
      "Processing Record 30 of Set 9 | aklavik\n",
      "Processing Record 31 of Set 9 | port hardy\n",
      "Processing Record 32 of Set 9 | burley\n",
      "Processing Record 33 of Set 9 | umm lajj\n",
      "Processing Record 34 of Set 9 | simbahan\n",
      "Processing Record 35 of Set 9 | piripiri\n",
      "Processing Record 36 of Set 9 | ambodifototra\n",
      "City was not found.  Skipping...\n",
      "Processing Record 37 of Set 9 | quatre cocos\n",
      "Processing Record 38 of Set 9 | biltine\n",
      "Processing Record 39 of Set 9 | revelstoke\n",
      "Processing Record 40 of Set 9 | preobrazheniye\n",
      "Processing Record 41 of Set 9 | thaton\n",
      "Processing Record 42 of Set 9 | high level\n",
      "Processing Record 43 of Set 9 | usinsk\n",
      "Processing Record 44 of Set 9 | codajas\n",
      "Processing Record 45 of Set 9 | rundu\n",
      "Processing Record 46 of Set 9 | barcelona\n",
      "Processing Record 47 of Set 9 | bismarck\n",
      "Processing Record 48 of Set 9 | te anau\n",
      "Processing Record 49 of Set 9 | mirabad\n",
      "Processing Record 50 of Set 9 | nayoro\n",
      "Processing Record 1 of Set 10 | sioux lookout\n",
      "Processing Record 2 of Set 10 | totness\n",
      "Processing Record 3 of Set 10 | abu zabad\n",
      "Processing Record 4 of Set 10 | puerto maldonado\n",
      "Processing Record 5 of Set 10 | guanica\n",
      "Processing Record 6 of Set 10 | praia\n",
      "Processing Record 7 of Set 10 | viligili\n",
      "City was not found.  Skipping...\n",
      "Processing Record 8 of Set 10 | sao desiderio\n",
      "Processing Record 9 of Set 10 | shimoda\n",
      "Processing Record 10 of Set 10 | tiksi\n",
      "Processing Record 11 of Set 10 | prado\n",
      "Processing Record 12 of Set 10 | chagda\n",
      "City was not found.  Skipping...\n",
      "Processing Record 13 of Set 10 | kieta\n",
      "Processing Record 14 of Set 10 | port-cartier\n",
      "Processing Record 15 of Set 10 | constitucion\n",
      "Processing Record 16 of Set 10 | fortuna\n",
      "Processing Record 17 of Set 10 | rajshahi\n",
      "Processing Record 18 of Set 10 | sain alto\n",
      "Processing Record 19 of Set 10 | kalmunai\n",
      "Processing Record 20 of Set 10 | saryshagan\n",
      "City was not found.  Skipping...\n",
      "Processing Record 21 of Set 10 | sorvag\n",
      "City was not found.  Skipping...\n",
      "Processing Record 22 of Set 10 | hami\n",
      "Processing Record 23 of Set 10 | santa rosalia\n",
      "Processing Record 24 of Set 10 | costa rica\n",
      "Processing Record 25 of Set 10 | gladstone\n",
      "Processing Record 26 of Set 10 | yamada\n",
      "Processing Record 27 of Set 10 | fort morgan\n",
      "Processing Record 28 of Set 10 | christchurch\n",
      "Processing Record 29 of Set 10 | tongzi\n",
      "Processing Record 30 of Set 10 | iwaki\n",
      "Processing Record 31 of Set 10 | xining\n",
      "Processing Record 32 of Set 10 | patur\n",
      "Processing Record 33 of Set 10 | barcarena\n",
      "Processing Record 34 of Set 10 | antofagasta\n",
      "Processing Record 35 of Set 10 | safaga\n",
      "Processing Record 36 of Set 10 | tadine\n",
      "Processing Record 37 of Set 10 | rustenburg\n",
      "Processing Record 38 of Set 10 | vardo\n",
      "Processing Record 39 of Set 10 | borskoye\n",
      "Processing Record 40 of Set 10 | korla\n",
      "Processing Record 41 of Set 10 | san patricio\n",
      "Processing Record 42 of Set 10 | albion\n",
      "Processing Record 43 of Set 10 | takoradi\n",
      "Processing Record 44 of Set 10 | prince rupert\n",
      "Processing Record 45 of Set 10 | caravelas\n",
      "Processing Record 46 of Set 10 | goba\n",
      "Processing Record 47 of Set 10 | zhob\n",
      "Processing Record 48 of Set 10 | makakilo city\n",
      "Processing Record 49 of Set 10 | tumannyy\n",
      "City was not found.  Skipping...\n",
      "Processing Record 50 of Set 10 | tonota\n",
      "Processing Record 1 of Set 11 | bur gabo\n",
      "City was not found.  Skipping...\n",
      "Processing Record 2 of Set 11 | mahajanga\n",
      "Processing Record 3 of Set 11 | kolaras\n",
      "Processing Record 4 of Set 11 | yashkul\n",
      "Processing Record 5 of Set 11 | pouebo\n",
      "Processing Record 6 of Set 11 | kerrobert\n",
      "Processing Record 7 of Set 11 | kiunga\n",
      "Processing Record 8 of Set 11 | aykhal\n",
      "Processing Record 9 of Set 11 | huilong\n",
      "Processing Record 10 of Set 11 | asind\n",
      "Processing Record 11 of Set 11 | banjar\n",
      "Processing Record 12 of Set 11 | waipawa\n",
      "Processing Record 13 of Set 11 | lavrentiya\n",
      "Processing Record 14 of Set 11 | prince albert\n",
      "Processing Record 15 of Set 11 | mackay\n",
      "Processing Record 16 of Set 11 | warqla\n",
      "City was not found.  Skipping...\n",
      "Processing Record 17 of Set 11 | neryungri\n",
      "Processing Record 18 of Set 11 | coburg\n",
      "Processing Record 19 of Set 11 | kargasok\n",
      "Processing Record 20 of Set 11 | san francisco\n",
      "Processing Record 21 of Set 11 | tsihombe\n",
      "City was not found.  Skipping...\n",
      "Processing Record 22 of Set 11 | mafeteng\n",
      "Processing Record 23 of Set 11 | tonneins\n",
      "Processing Record 24 of Set 11 | zhuhai\n",
      "Processing Record 25 of Set 11 | uspenka\n",
      "Processing Record 26 of Set 11 | odweyne\n",
      "Processing Record 27 of Set 11 | sabang\n",
      "Processing Record 28 of Set 11 | aripuana\n",
      "Processing Record 29 of Set 11 | smirnykh\n",
      "Processing Record 30 of Set 11 | bodden town\n",
      "Processing Record 31 of Set 11 | fort saint john\n",
      "City was not found.  Skipping...\n",
      "Processing Record 32 of Set 11 | haines junction\n",
      "Processing Record 33 of Set 11 | korbach\n",
      "Processing Record 34 of Set 11 | vrbove\n",
      "Processing Record 35 of Set 11 | trairi\n",
      "Processing Record 36 of Set 11 | lahijan\n",
      "Processing Record 37 of Set 11 | zinder\n",
      "Processing Record 38 of Set 11 | nicoya\n",
      "Processing Record 39 of Set 11 | gamba\n",
      "Processing Record 40 of Set 11 | amboise\n",
      "Processing Record 41 of Set 11 | gurupa\n",
      "Processing Record 42 of Set 11 | mercedes\n",
      "Processing Record 43 of Set 11 | andenes\n",
      "Processing Record 44 of Set 11 | flinders\n",
      "Processing Record 45 of Set 11 | padang\n",
      "Processing Record 46 of Set 11 | pitsunda\n",
      "Processing Record 47 of Set 11 | mananara\n",
      "Processing Record 48 of Set 11 | norrtalje\n",
      "Processing Record 49 of Set 11 | anadyr\n",
      "Processing Record 50 of Set 11 | manta\n",
      "Processing Record 1 of Set 12 | jiayuguan\n",
      "Processing Record 2 of Set 12 | nador\n",
      "Processing Record 3 of Set 12 | moroni\n",
      "Processing Record 4 of Set 12 | ashcroft\n",
      "Processing Record 5 of Set 12 | tashtyp\n",
      "Processing Record 6 of Set 12 | xunchang\n",
      "Processing Record 7 of Set 12 | killybegs\n",
      "Processing Record 8 of Set 12 | tosya\n",
      "Processing Record 9 of Set 12 | clarksburg\n",
      "Processing Record 10 of Set 12 | palasa\n",
      "Processing Record 11 of Set 12 | tecpan\n",
      "Processing Record 12 of Set 12 | jaque\n",
      "Processing Record 13 of Set 12 | sinnamary\n"
     ]
    },
    {
     "name": "stdout",
     "output_type": "stream",
     "text": [
      "Processing Record 14 of Set 12 | grindavik\n",
      "Processing Record 15 of Set 12 | amur\n",
      "Processing Record 16 of Set 12 | salalah\n",
      "Processing Record 17 of Set 12 | sanmenxia\n",
      "Processing Record 18 of Set 12 | canico\n",
      "Processing Record 19 of Set 12 | koumac\n",
      "Processing Record 20 of Set 12 | natal\n",
      "Processing Record 21 of Set 12 | kununurra\n",
      "Processing Record 22 of Set 12 | gornopravdinsk\n",
      "Processing Record 23 of Set 12 | ulcinj\n",
      "Processing Record 24 of Set 12 | lakselv\n",
      "Processing Record 25 of Set 12 | anar darreh\n",
      "City was not found.  Skipping...\n",
      "Processing Record 26 of Set 12 | arkhipo-osipovka\n",
      "Processing Record 27 of Set 12 | batagay-alyta\n",
      "Processing Record 28 of Set 12 | khasan\n",
      "Processing Record 29 of Set 12 | changqing\n",
      "Processing Record 30 of Set 12 | monroe\n",
      "Processing Record 31 of Set 12 | adelaide\n",
      "Processing Record 32 of Set 12 | camana\n",
      "Processing Record 33 of Set 12 | polis\n",
      "Processing Record 34 of Set 12 | kyren\n",
      "Processing Record 35 of Set 12 | tulum\n",
      "Processing Record 36 of Set 12 | doctor pedro p. pena\n",
      "City was not found.  Skipping...\n",
      "Processing Record 37 of Set 12 | ust-kuyga\n",
      "Processing Record 38 of Set 12 | valdivia\n",
      "Processing Record 39 of Set 12 | beysehir\n",
      "Processing Record 40 of Set 12 | severnyy\n",
      "Processing Record 41 of Set 12 | iralaya\n",
      "Processing Record 42 of Set 12 | hirson\n",
      "Processing Record 43 of Set 12 | tagusao\n",
      "Processing Record 44 of Set 12 | tigil\n",
      "Processing Record 45 of Set 12 | bichura\n",
      "Processing Record 46 of Set 12 | nemuro\n",
      "Processing Record 47 of Set 12 | galgani\n",
      "City was not found.  Skipping...\n",
      "Processing Record 48 of Set 12 | shache\n",
      "Processing Record 49 of Set 12 | buchanan\n",
      "Processing Record 50 of Set 12 | znamensk\n",
      "Processing Record 1 of Set 13 | north branch\n",
      "Processing Record 2 of Set 13 | waitati\n",
      "Processing Record 3 of Set 13 | sayyan\n",
      "Processing Record 4 of Set 13 | nabire\n",
      "Processing Record 5 of Set 13 | amazar\n",
      "Processing Record 6 of Set 13 | cerrito\n",
      "Processing Record 7 of Set 13 | kerteh\n",
      "City was not found.  Skipping...\n",
      "Processing Record 8 of Set 13 | leisure city\n",
      "Processing Record 9 of Set 13 | serov\n",
      "Processing Record 10 of Set 13 | pafos\n",
      "Processing Record 11 of Set 13 | noshiro\n",
      "Processing Record 12 of Set 13 | hvammstangi\n",
      "City was not found.  Skipping...\n",
      "Processing Record 13 of Set 13 | cerano\n",
      "Processing Record 14 of Set 13 | thinadhoo\n",
      "Processing Record 15 of Set 13 | huron\n",
      "Processing Record 16 of Set 13 | poum\n",
      "Processing Record 17 of Set 13 | causapscal\n",
      "Processing Record 18 of Set 13 | sawakin\n",
      "Processing Record 19 of Set 13 | hofn\n",
      "Processing Record 20 of Set 13 | bandarbeyla\n",
      "Processing Record 21 of Set 13 | kalemie\n",
      "Processing Record 22 of Set 13 | tripoli\n",
      "-----------------------------\n",
      "Data Retrieval Complete\n",
      "-----------------------------\n"
     ]
    }
   ],
   "source": [
    "url = \"http://api.openweathermap.org/data/2.5/weather?\"\n",
    "units = \"imperial\"\n",
    "query_url = f\"{url}appid={weather_api_key}&units={units}&q=\"\n",
    "\n",
    "print('Beginning Data Retrieval')     \n",
    "print('-----------------------------')\n",
    "\n",
    "# Loop through the list of cities and perform a request for data on each\n",
    "record_count = 0\n",
    "set_count = 1\n",
    "city_data = []\n",
    "\n",
    "for city in cities:\n",
    "    record_count += 1\n",
    "    \n",
    "    print(f'Processing Record {record_count} of Set {set_count} | {city}')    \n",
    "    \n",
    "    if (record_count==50):\n",
    "        set_count += 1\n",
    "        record_count = 0\n",
    "        \n",
    "    city_url = query_url + city\n",
    "    weather_by_city = requests.get(city_url).json()\n",
    "    try:\n",
    "        cloud_info = weather_by_city['clouds']['all']\n",
    "        country = weather_by_city['sys']['country']\n",
    "        date = weather_by_city['dt']\n",
    "        humidity = weather_by_city['main']['humidity']\n",
    "        lat = weather_by_city['coord']['lat']\n",
    "        lng = weather_by_city['coord']['lon']\n",
    "        max_temp = weather_by_city['main']['temp']\n",
    "        wind_speed = weather_by_city['wind']['speed']\n",
    "\n",
    "        city_data.append({'City': city,\n",
    "                            'Cloudiness': cloud_info,\n",
    "                            'Country': country,\n",
    "                            'Date': date,\n",
    "                            'Humidity': humidity,\n",
    "                            'Lat': lat,\n",
    "                            'Lng': lng,\n",
    "                            'Max Temp': max_temp,\n",
    "                            'Wind Speed': wind_speed})\n",
    "    except:\n",
    "        print('City was not found.  Skipping...')\n",
    "        pass  \n",
    "\n",
    "print(\"-----------------------------\")\n",
    "print(\"Data Retrieval Complete\")\n",
    "print(\"-----------------------------\")"
   ]
  },
  {
   "cell_type": "markdown",
   "metadata": {},
   "source": [
    "### Convert Raw Data to DataFrame\n",
    "* Export the city data into a .csv.\n",
    "* Display the DataFrame"
   ]
  },
  {
   "cell_type": "code",
   "execution_count": 4,
   "metadata": {},
   "outputs": [
    {
     "data": {
      "text/html": [
       "<div>\n",
       "<style scoped>\n",
       "    .dataframe tbody tr th:only-of-type {\n",
       "        vertical-align: middle;\n",
       "    }\n",
       "\n",
       "    .dataframe tbody tr th {\n",
       "        vertical-align: top;\n",
       "    }\n",
       "\n",
       "    .dataframe thead th {\n",
       "        text-align: right;\n",
       "    }\n",
       "</style>\n",
       "<table border=\"1\" class=\"dataframe\">\n",
       "  <thead>\n",
       "    <tr style=\"text-align: right;\">\n",
       "      <th></th>\n",
       "      <th>City</th>\n",
       "      <th>Cloudiness</th>\n",
       "      <th>Country</th>\n",
       "      <th>Date</th>\n",
       "      <th>Humidity</th>\n",
       "      <th>Lat</th>\n",
       "      <th>Lng</th>\n",
       "      <th>Max Temp</th>\n",
       "      <th>Wind Speed</th>\n",
       "    </tr>\n",
       "  </thead>\n",
       "  <tbody>\n",
       "    <tr>\n",
       "      <th>0</th>\n",
       "      <td>the valley</td>\n",
       "      <td>20</td>\n",
       "      <td>AI</td>\n",
       "      <td>1595897422</td>\n",
       "      <td>78</td>\n",
       "      <td>18.22</td>\n",
       "      <td>-63.06</td>\n",
       "      <td>82.13</td>\n",
       "      <td>13.87</td>\n",
       "    </tr>\n",
       "    <tr>\n",
       "      <th>1</th>\n",
       "      <td>vaini</td>\n",
       "      <td>75</td>\n",
       "      <td>TO</td>\n",
       "      <td>1595897462</td>\n",
       "      <td>88</td>\n",
       "      <td>-21.20</td>\n",
       "      <td>-175.20</td>\n",
       "      <td>73.40</td>\n",
       "      <td>14.99</td>\n",
       "    </tr>\n",
       "    <tr>\n",
       "      <th>2</th>\n",
       "      <td>ishinomaki</td>\n",
       "      <td>75</td>\n",
       "      <td>JP</td>\n",
       "      <td>1595897462</td>\n",
       "      <td>94</td>\n",
       "      <td>38.42</td>\n",
       "      <td>141.30</td>\n",
       "      <td>69.80</td>\n",
       "      <td>4.70</td>\n",
       "    </tr>\n",
       "    <tr>\n",
       "      <th>3</th>\n",
       "      <td>atar</td>\n",
       "      <td>1</td>\n",
       "      <td>MR</td>\n",
       "      <td>1595897463</td>\n",
       "      <td>36</td>\n",
       "      <td>20.52</td>\n",
       "      <td>-13.05</td>\n",
       "      <td>92.57</td>\n",
       "      <td>9.64</td>\n",
       "    </tr>\n",
       "    <tr>\n",
       "      <th>4</th>\n",
       "      <td>severo-kurilsk</td>\n",
       "      <td>45</td>\n",
       "      <td>RU</td>\n",
       "      <td>1595897463</td>\n",
       "      <td>82</td>\n",
       "      <td>50.68</td>\n",
       "      <td>156.12</td>\n",
       "      <td>55.27</td>\n",
       "      <td>17.07</td>\n",
       "    </tr>\n",
       "    <tr>\n",
       "      <th>...</th>\n",
       "      <td>...</td>\n",
       "      <td>...</td>\n",
       "      <td>...</td>\n",
       "      <td>...</td>\n",
       "      <td>...</td>\n",
       "      <td>...</td>\n",
       "      <td>...</td>\n",
       "      <td>...</td>\n",
       "      <td>...</td>\n",
       "    </tr>\n",
       "    <tr>\n",
       "      <th>568</th>\n",
       "      <td>sawakin</td>\n",
       "      <td>100</td>\n",
       "      <td>SD</td>\n",
       "      <td>1595897557</td>\n",
       "      <td>62</td>\n",
       "      <td>19.11</td>\n",
       "      <td>37.33</td>\n",
       "      <td>86.97</td>\n",
       "      <td>16.60</td>\n",
       "    </tr>\n",
       "    <tr>\n",
       "      <th>569</th>\n",
       "      <td>hofn</td>\n",
       "      <td>100</td>\n",
       "      <td>IS</td>\n",
       "      <td>1595897558</td>\n",
       "      <td>68</td>\n",
       "      <td>64.25</td>\n",
       "      <td>-15.21</td>\n",
       "      <td>52.03</td>\n",
       "      <td>8.30</td>\n",
       "    </tr>\n",
       "    <tr>\n",
       "      <th>570</th>\n",
       "      <td>bandarbeyla</td>\n",
       "      <td>0</td>\n",
       "      <td>SO</td>\n",
       "      <td>1595897558</td>\n",
       "      <td>69</td>\n",
       "      <td>9.49</td>\n",
       "      <td>50.81</td>\n",
       "      <td>79.66</td>\n",
       "      <td>20.60</td>\n",
       "    </tr>\n",
       "    <tr>\n",
       "      <th>571</th>\n",
       "      <td>kalemie</td>\n",
       "      <td>0</td>\n",
       "      <td>CD</td>\n",
       "      <td>1595897558</td>\n",
       "      <td>68</td>\n",
       "      <td>-5.95</td>\n",
       "      <td>29.19</td>\n",
       "      <td>66.04</td>\n",
       "      <td>2.95</td>\n",
       "    </tr>\n",
       "    <tr>\n",
       "      <th>572</th>\n",
       "      <td>tripoli</td>\n",
       "      <td>0</td>\n",
       "      <td>LY</td>\n",
       "      <td>1595897558</td>\n",
       "      <td>71</td>\n",
       "      <td>32.88</td>\n",
       "      <td>13.19</td>\n",
       "      <td>76.30</td>\n",
       "      <td>6.42</td>\n",
       "    </tr>\n",
       "  </tbody>\n",
       "</table>\n",
       "<p>573 rows × 9 columns</p>\n",
       "</div>"
      ],
      "text/plain": [
       "               City  Cloudiness Country        Date  Humidity    Lat     Lng  \\\n",
       "0        the valley          20      AI  1595897422        78  18.22  -63.06   \n",
       "1             vaini          75      TO  1595897462        88 -21.20 -175.20   \n",
       "2        ishinomaki          75      JP  1595897462        94  38.42  141.30   \n",
       "3              atar           1      MR  1595897463        36  20.52  -13.05   \n",
       "4    severo-kurilsk          45      RU  1595897463        82  50.68  156.12   \n",
       "..              ...         ...     ...         ...       ...    ...     ...   \n",
       "568         sawakin         100      SD  1595897557        62  19.11   37.33   \n",
       "569            hofn         100      IS  1595897558        68  64.25  -15.21   \n",
       "570     bandarbeyla           0      SO  1595897558        69   9.49   50.81   \n",
       "571         kalemie           0      CD  1595897558        68  -5.95   29.19   \n",
       "572         tripoli           0      LY  1595897558        71  32.88   13.19   \n",
       "\n",
       "     Max Temp  Wind Speed  \n",
       "0       82.13       13.87  \n",
       "1       73.40       14.99  \n",
       "2       69.80        4.70  \n",
       "3       92.57        9.64  \n",
       "4       55.27       17.07  \n",
       "..        ...         ...  \n",
       "568     86.97       16.60  \n",
       "569     52.03        8.30  \n",
       "570     79.66       20.60  \n",
       "571     66.04        2.95  \n",
       "572     76.30        6.42  \n",
       "\n",
       "[573 rows x 9 columns]"
      ]
     },
     "execution_count": 4,
     "metadata": {},
     "output_type": "execute_result"
    }
   ],
   "source": [
    "# Create DataFrame\n",
    "weather_data = pd.DataFrame(city_data)\n",
    "weather_data"
   ]
  },
  {
   "cell_type": "markdown",
   "metadata": {},
   "source": [
    "## Inspect the data and remove the cities where the humidity > 100%.\n",
    "----\n",
    "Skip this step if there are no cities that have humidity > 100%. "
   ]
  },
  {
   "cell_type": "code",
   "execution_count": 5,
   "metadata": {},
   "outputs": [
    {
     "data": {
      "text/html": [
       "<div>\n",
       "<style scoped>\n",
       "    .dataframe tbody tr th:only-of-type {\n",
       "        vertical-align: middle;\n",
       "    }\n",
       "\n",
       "    .dataframe tbody tr th {\n",
       "        vertical-align: top;\n",
       "    }\n",
       "\n",
       "    .dataframe thead th {\n",
       "        text-align: right;\n",
       "    }\n",
       "</style>\n",
       "<table border=\"1\" class=\"dataframe\">\n",
       "  <thead>\n",
       "    <tr style=\"text-align: right;\">\n",
       "      <th></th>\n",
       "      <th>City</th>\n",
       "      <th>Cloudiness</th>\n",
       "      <th>Country</th>\n",
       "      <th>Date</th>\n",
       "      <th>Humidity</th>\n",
       "      <th>Lat</th>\n",
       "      <th>Lng</th>\n",
       "      <th>Max Temp</th>\n",
       "      <th>Wind Speed</th>\n",
       "    </tr>\n",
       "  </thead>\n",
       "  <tbody>\n",
       "  </tbody>\n",
       "</table>\n",
       "</div>"
      ],
      "text/plain": [
       "Empty DataFrame\n",
       "Columns: [City, Cloudiness, Country, Date, Humidity, Lat, Lng, Max Temp, Wind Speed]\n",
       "Index: []"
      ]
     },
     "execution_count": 5,
     "metadata": {},
     "output_type": "execute_result"
    }
   ],
   "source": [
    "# See if there are any cities with humidity > 100%\n",
    "weather_data.loc[weather_data.Humidity > 100]"
   ]
  },
  {
   "cell_type": "code",
   "execution_count": 7,
   "metadata": {},
   "outputs": [],
   "source": [
    "# Export the City_Data into a csv\n",
    "weather_data.to_csv('../output_data/City_Weather_Data.csv')"
   ]
  },
  {
   "cell_type": "markdown",
   "metadata": {},
   "source": [
    "## Plotting the Data\n",
    "* Use proper labeling of the plots using plot titles (including date of analysis) and axes labels.\n",
    "* Save the plotted figures as .pngs."
   ]
  },
  {
   "cell_type": "markdown",
   "metadata": {},
   "source": [
    "## Latitude vs. Temperature Plot"
   ]
  },
  {
   "cell_type": "code",
   "execution_count": 32,
   "metadata": {},
   "outputs": [
    {
     "data": {
      "image/png": "[encoded data removed]",
      "text/plain": [
       "<Figure size 432x288 with 1 Axes>"
      ]
     },
     "metadata": {
      "needs_background": "light"
     },
     "output_type": "display_data"
    }
   ],
   "source": [
    "# Create scatter plot of Lat vs Temp\n",
    "plt.scatter(weather_data['Lat'], weather_data['Max Temp'], edgecolor = 'black', facecolor = 'blue')\n",
    "plt.title('Temperature (F) vs Latitude')\n",
    "plt.xlabel('Latitude')\n",
    "plt.ylabel('Temperature (F)')\n",
    "plt.grid(linestyle = '-', linewidth = 1, alpha = 0.25)\n",
    "plt.savefig('../Images/Temperature (F) vs Latitude.png')"
   ]
  },
  {
   "cell_type": "code",
   "execution_count": 37,
   "metadata": {},
   "outputs": [
    {
     "name": "stdout",
     "output_type": "stream",
     "text": [
      "Overall, as the latitude moves further away from 0 on either size the temperature decreases.\n"
     ]
    }
   ],
   "source": [
    "print('Overall, as the latitude moves further away from 0 on either size the temperature decreases.')"
   ]
  },
  {
   "cell_type": "markdown",
   "metadata": {},
   "source": [
    "## Latitude vs. Humidity Plot"
   ]
  },
  {
   "cell_type": "code",
   "execution_count": 33,
   "metadata": {},
   "outputs": [
    {
     "data": {
      "image/png": "[encoded data removed]",
      "text/plain": [
       "<Figure size 432x288 with 1 Axes>"
      ]
     },
     "metadata": {
      "needs_background": "light"
     },
     "output_type": "display_data"
    }
   ],
   "source": [
    "# Create scatter plot of Lat vs Humidity\n",
    "plt.scatter(weather_data['Lat'], weather_data['Humidity'], edgecolor = 'black', facecolor = 'blue')\n",
    "plt.title('Humidity (%) vs Latitude')\n",
    "plt.xlabel('Latitude')\n",
    "plt.ylabel('Humidity (%)')\n",
    "plt.grid(linestyle = '-', linewidth = 1, alpha = 0.25)\n",
    "plt.savefig('../Images/Humidity vs Latitude.png')"
   ]
  },
  {
   "cell_type": "code",
   "execution_count": 38,
   "metadata": {},
   "outputs": [
    {
     "name": "stdout",
     "output_type": "stream",
     "text": [
      "Here the plot is comparing the relationship with humidity and latitude.  As the citys latitude moves further away from 0 the humidity appears to increase.\n"
     ]
    }
   ],
   "source": [
    "print('Here the plot is comparing the relationship with humidity and latitude.  As the citys latitude moves further away from 0 the humidity appears to increase.')"
   ]
  },
  {
   "cell_type": "markdown",
   "metadata": {},
   "source": [
    "## Latitude vs. Cloudiness Plot"
   ]
  },
  {
   "cell_type": "code",
   "execution_count": 34,
   "metadata": {},
   "outputs": [
    {
     "data": {
      "image/png": "[encoded data removed]",
      "text/plain": [
       "<Figure size 432x288 with 1 Axes>"
      ]
     },
     "metadata": {
      "needs_background": "light"
     },
     "output_type": "display_data"
    }
   ],
   "source": [
    "# Create scatter plot of Lat vs Cloudiness\n",
    "plt.scatter(weather_data['Lat'], weather_data['Cloudiness'], edgecolor = 'black', facecolor = 'blue')\n",
    "plt.title('Cloudiness (%) vs Latitude')\n",
    "plt.xlabel('Latitude')\n",
    "plt.ylabel('Cloudiness (%)')\n",
    "plt.grid(linestyle = '-', linewidth = 1, alpha = 0.25)\n",
    "plt.savefig('../Images/Cloudiness vs Latitude.png')"
   ]
  },
  {
   "cell_type": "code",
   "execution_count": 39,
   "metadata": {},
   "outputs": [
    {
     "name": "stdout",
     "output_type": "stream",
     "text": [
      "In this plot, looking at the relationship between cloudiness and where a city is located by latitude, there is a seemingly even amount of cities with high cloudiness percentage to cities with low cloudiness percentage.\n"
     ]
    }
   ],
   "source": [
    "print('In this plot, looking at the relationship between cloudiness and where a city is located by latitude, there is a seemingly even amount of cities with high cloudiness percentage to cities with low cloudiness percentage.')"
   ]
  },
  {
   "cell_type": "markdown",
   "metadata": {},
   "source": [
    "## Latitude vs. Wind Speed Plot"
   ]
  },
  {
   "cell_type": "code",
   "execution_count": 35,
   "metadata": {},
   "outputs": [
    {
     "data": {
      "image/png": "[encoded data removed]",
      "text/plain": [
       "<Figure size 432x288 with 1 Axes>"
      ]
     },
     "metadata": {
      "needs_background": "light"
     },
     "output_type": "display_data"
    }
   ],
   "source": [
    "# Create scatter plot of Lat vs Wind Speed\n",
    "plt.scatter(weather_data['Lat'], weather_data['Wind Speed'], edgecolor = 'black', facecolor = 'blue')\n",
    "plt.title('Wind Speed (MPH) vs Latitude')\n",
    "plt.xlabel('Latitude')\n",
    "plt.ylabel('Wind Speed (MPH)')\n",
    "plt.grid(linestyle = '-', linewidth = 1, alpha = 0.25)\n",
    "plt.savefig('../Images/Wind Speed vs Latitude.png')"
   ]
  },
  {
   "cell_type": "code",
   "execution_count": 40,
   "metadata": {},
   "outputs": [
    {
     "name": "stdout",
     "output_type": "stream",
     "text": [
      "According to this plot, there appears to be a higher concentration of cities betwee 40 and 60 degrees latitude with a similar amount of wind speed occuring.\n"
     ]
    }
   ],
   "source": [
    "print('According to this plot, there appears to be a higher concentration of cities betwee 40 and 60 degrees latitude with a similar amount of wind speed occuring.')"
   ]
  },
  {
   "cell_type": "markdown",
   "metadata": {},
   "source": [
    "## Linear Regression"
   ]
  },
  {
   "cell_type": "code",
   "execution_count": 12,
   "metadata": {},
   "outputs": [],
   "source": [
    "# Create Northern and Southern Hemisphere DataFrames\n",
    "north_hem = weather_data.loc[weather_data['Lat']>=0]\n",
    "south_hem = weather_data.loc[weather_data['Lat']<0]"
   ]
  },
  {
   "cell_type": "code",
   "execution_count": 22,
   "metadata": {},
   "outputs": [],
   "source": [
    "# Write a function that creates linear regression plots\n",
    "def linear_regression(x,y):\n",
    "    print(f'R-squared value: {round(st.pearsonr(x,y)[0],4)}')\n",
    "    (slope, intercept, rvalue, pvalue, stderr) = linregress(x,y)\n",
    "    regress = x * slope + intercept\n",
    "    line_eq = 'y= ' + str(round(slope, 2)) + 'x + ' + str(round(intercept, 2))\n",
    "    plt.scatter(x,y)\n",
    "    plt.plot(x, regress, 'r-')\n",
    "    return line_eq\n",
    "                     \n",
    "# Write a function for regression line\n",
    "def annotate(line_eq, x, y):\n",
    "    plt.annotate(line_eq, (x, y), fontsize = 12, color = 'red')"
   ]
  },
  {
   "cell_type": "markdown",
   "metadata": {},
   "source": [
    "####  Northern Hemisphere - Max Temp vs. Latitude Linear Regression"
   ]
  },
  {
   "cell_type": "code",
   "execution_count": 23,
   "metadata": {},
   "outputs": [
    {
     "name": "stdout",
     "output_type": "stream",
     "text": [
      "R-squared value: -0.6291\n"
     ]
    },
    {
     "data": {
      "image/png": "[encoded data removed]",
      "text/plain": [
       "<Figure size 432x288 with 1 Axes>"
      ]
     },
     "metadata": {
      "needs_background": "light"
     },
     "output_type": "display_data"
    }
   ],
   "source": [
    "equation = linear_regression(north_hem['Lat'], north_hem['Max Temp'])\n",
    "annotate(equation, 0, 40)\n",
    "plt.title('Northern Hemisphere - Max Temp vs. Latitude Linear Regression')\n",
    "plt.xlabel('Latitude')\n",
    "plt.ylabel('Max Temp (F)')\n",
    "\n",
    "plt.savefig('../Images/Northern Hemisphere - Max Temp vs Lat Linear Regression.png')"
   ]
  },
  {
   "cell_type": "code",
   "execution_count": 41,
   "metadata": {},
   "outputs": [
    {
     "name": "stdout",
     "output_type": "stream",
     "text": [
      "In the Northern Hemisphere, there is a strong negative correlation between max temperature and latitude. Overall, as the latitude increases the temperature decreases.\n"
     ]
    }
   ],
   "source": [
    "print('In the Northern Hemisphere, there is a strong negative correlation between max temperature and latitude. Overall, as the latitude increases the temperature decreases.')"
   ]
  },
  {
   "cell_type": "markdown",
   "metadata": {},
   "source": [
    "####  Southern Hemisphere - Max Temp vs. Latitude Linear Regression"
   ]
  },
  {
   "cell_type": "code",
   "execution_count": 24,
   "metadata": {},
   "outputs": [
    {
     "name": "stdout",
     "output_type": "stream",
     "text": [
      "R-squared value: 0.8043\n"
     ]
    },
    {
     "data": {
      "image/png": "[encoded data removed]",
      "text/plain": [
       "<Figure size 432x288 with 1 Axes>"
      ]
     },
     "metadata": {
      "needs_background": "light"
     },
     "output_type": "display_data"
    }
   ],
   "source": [
    "equation = linear_regression(south_hem['Lat'], south_hem['Max Temp'])\n",
    "annotate(equation, -30, 40)\n",
    "plt.title('Southern Hemisphere - Max Temp vs. Latitude Linear Regression')\n",
    "plt.xlabel('Latitude')\n",
    "plt.ylabel('Max Temp (F)')\n",
    "\n",
    "plt.savefig('../Images/Southern Hemisphere - Max Temp vs Lat Linear Regression.png')"
   ]
  },
  {
   "cell_type": "code",
   "execution_count": 42,
   "metadata": {},
   "outputs": [
    {
     "name": "stdout",
     "output_type": "stream",
     "text": [
      "There is a strong postitive corelation between max temp and latitude in the Southern Hemisphere.\n"
     ]
    }
   ],
   "source": [
    "print('There is a strong postitive corelation between max temp and latitude in the Southern Hemisphere.')"
   ]
  },
  {
   "cell_type": "markdown",
   "metadata": {},
   "source": [
    "####  Northern Hemisphere - Humidity (%) vs. Latitude Linear Regression"
   ]
  },
  {
   "cell_type": "code",
   "execution_count": 25,
   "metadata": {},
   "outputs": [
    {
     "name": "stdout",
     "output_type": "stream",
     "text": [
      "R-squared value: -0.1546\n"
     ]
    },
    {
     "data": {
      "image/png": "[encoded data removed]",
      "text/plain": [
       "<Figure size 432x288 with 1 Axes>"
      ]
     },
     "metadata": {
      "needs_background": "light"
     },
     "output_type": "display_data"
    }
   ],
   "source": [
    "equation = linear_regression(north_hem['Lat'], north_hem['Humidity'])\n",
    "annotate(equation, 0, 20)\n",
    "plt.title('Northern Hemisphere - Humidity vs. Latitude Linear Regression')\n",
    "plt.xlabel('Latitude')\n",
    "plt.ylabel('Humidity (%)')\n",
    "\n",
    "plt.savefig('../Images/Northern Hemisphere - Humidity vs Lat Linear Regression.png')"
   ]
  },
  {
   "cell_type": "code",
   "execution_count": 43,
   "metadata": {},
   "outputs": [
    {
     "name": "stdout",
     "output_type": "stream",
     "text": [
      "There is a moderate negative corelation between humidity and latitude in the Northern Hemisphere.\n"
     ]
    }
   ],
   "source": [
    "print('There is a moderate negative corelation between humidity and latitude in the Northern Hemisphere.')"
   ]
  },
  {
   "cell_type": "markdown",
   "metadata": {},
   "source": [
    "####  Southern Hemisphere - Humidity (%) vs. Latitude Linear Regression"
   ]
  },
  {
   "cell_type": "code",
   "execution_count": 26,
   "metadata": {},
   "outputs": [
    {
     "name": "stdout",
     "output_type": "stream",
     "text": [
      "R-squared value: -0.0312\n"
     ]
    },
    {
     "data": {
      "image/png": "[encoded data removed]",
      "text/plain": [
       "<Figure size 432x288 with 1 Axes>"
      ]
     },
     "metadata": {
      "needs_background": "light"
     },
     "output_type": "display_data"
    }
   ],
   "source": [
    "equation = linear_regression(south_hem['Lat'], south_hem['Humidity'])\n",
    "annotate(equation, -50, 20)\n",
    "plt.title('Southern Hemisphere - Humidity vs. Latitude Linear Regression')\n",
    "plt.xlabel('Latitude')\n",
    "plt.ylabel('Humidity (%)')\n",
    "\n",
    "plt.savefig('../Images/Southern Hemisphere - Humidity vs Lat Linear Regression.png')"
   ]
  },
  {
   "cell_type": "code",
   "execution_count": 44,
   "metadata": {},
   "outputs": [
    {
     "name": "stdout",
     "output_type": "stream",
     "text": [
      "There is relatively little to no corelation between humidity and latitude in the Southern Hemisphere.\n"
     ]
    }
   ],
   "source": [
    "print('There is relatively little to no corelation between humidity and latitude in the Southern Hemisphere.')"
   ]
  },
  {
   "cell_type": "markdown",
   "metadata": {},
   "source": [
    "####  Northern Hemisphere - Cloudiness (%) vs. Latitude Linear Regression"
   ]
  },
  {
   "cell_type": "code",
   "execution_count": 27,
   "metadata": {},
   "outputs": [
    {
     "name": "stdout",
     "output_type": "stream",
     "text": [
      "R-squared value: -0.075\n"
     ]
    },
    {
     "data": {
      "image/png": "[encoded data removed]",
      "text/plain": [
       "<Figure size 432x288 with 1 Axes>"
      ]
     },
     "metadata": {
      "needs_background": "light"
     },
     "output_type": "display_data"
    }
   ],
   "source": [
    "equation = linear_regression(north_hem['Lat'], north_hem['Cloudiness'])\n",
    "annotate(equation, 0, 10)\n",
    "plt.title('Northern Hemisphere - Cloudiness vs. Latitude Linear Regression')\n",
    "plt.xlabel('Latitude')\n",
    "plt.ylabel('Cloudiness (%)')\n",
    "\n",
    "plt.savefig('../Images/Northern Hemisphere - Cloudiness vs Lat Linear Regression.png')"
   ]
  },
  {
   "cell_type": "code",
   "execution_count": 45,
   "metadata": {},
   "outputs": [
    {
     "name": "stdout",
     "output_type": "stream",
     "text": [
      "In the Northern Hemisphere, there is a weak negative corelation between cloudiness and latitude.\n"
     ]
    }
   ],
   "source": [
    "print('In the Northern Hemisphere, there is a weak negative corelation between cloudiness and latitude.')"
   ]
  },
  {
   "cell_type": "markdown",
   "metadata": {},
   "source": [
    "####  Southern Hemisphere - Cloudiness (%) vs. Latitude Linear Regression"
   ]
  },
  {
   "cell_type": "code",
   "execution_count": 29,
   "metadata": {},
   "outputs": [
    {
     "name": "stdout",
     "output_type": "stream",
     "text": [
      "R-squared value: -0.1532\n"
     ]
    },
    {
     "data": {
      "image/png": "[encoded data removed]",
      "text/plain": [
       "<Figure size 432x288 with 1 Axes>"
      ]
     },
     "metadata": {
      "needs_background": "light"
     },
     "output_type": "display_data"
    }
   ],
   "source": [
    "equation = linear_regression(south_hem['Lat'], south_hem['Cloudiness'])\n",
    "annotate(equation, -55, 10)\n",
    "plt.title('Southern Hemisphere - Cloudiness vs. Latitude Linear Regression')\n",
    "plt.xlabel('Latitude')\n",
    "plt.ylabel('Cloudiness (%)')\n",
    "\n",
    "plt.savefig('../Images/Southern Hemisphere - Cloudiness vs Lat Linear Regression.png')"
   ]
  },
  {
   "cell_type": "code",
   "execution_count": 46,
   "metadata": {},
   "outputs": [
    {
     "name": "stdout",
     "output_type": "stream",
     "text": [
      "In the Southern Hemisphere, there is a moderately negative corelation between cloudiness and latitude.\n"
     ]
    }
   ],
   "source": [
    "print('In the Southern Hemisphere, there is a moderately negative corelation between cloudiness and latitude.')"
   ]
  },
  {
   "cell_type": "markdown",
   "metadata": {},
   "source": [
    "####  Northern Hemisphere - Wind Speed (mph) vs. Latitude Linear Regression"
   ]
  },
  {
   "cell_type": "code",
   "execution_count": 30,
   "metadata": {},
   "outputs": [
    {
     "name": "stdout",
     "output_type": "stream",
     "text": [
      "R-squared value: 0.0468\n"
     ]
    },
    {
     "data": {
      "image/png": "[encoded data removed]",
      "text/plain": [
       "<Figure size 432x288 with 1 Axes>"
      ]
     },
     "metadata": {
      "needs_background": "light"
     },
     "output_type": "display_data"
    }
   ],
   "source": [
    "equation = linear_regression(north_hem['Lat'], north_hem['Wind Speed'])\n",
    "annotate(equation, 0, 25)\n",
    "plt.title('Northern Hemisphere - Wind Speed vs. Latitude Linear Regression')\n",
    "plt.xlabel('Latitude')\n",
    "plt.ylabel('Wind Speed (MPH)')\n",
    "\n",
    "plt.savefig('../Images/Northern Hemisphere - Wind Speed vs Lat Linear Regression.png')"
   ]
  },
  {
   "cell_type": "code",
   "execution_count": 47,
   "metadata": {},
   "outputs": [
    {
     "name": "stdout",
     "output_type": "stream",
     "text": [
      "In the Northern Hemisphere, there is relatively little to no corelation between wind speed and latitude.\n"
     ]
    }
   ],
   "source": [
    "print('In the Northern Hemisphere, there is relatively little to no corelation between wind speed and latitude.')"
   ]
  },
  {
   "cell_type": "markdown",
   "metadata": {},
   "source": [
    "####  Southern Hemisphere - Wind Speed (mph) vs. Latitude Linear Regression"
   ]
  },
  {
   "cell_type": "code",
   "execution_count": 31,
   "metadata": {},
   "outputs": [
    {
     "name": "stdout",
     "output_type": "stream",
     "text": [
      "R-squared value: 0.0844\n"
     ]
    },
    {
     "data": {
      "image/png": "[encoded data removed]",
      "text/plain": [
       "<Figure size 432x288 with 1 Axes>"
      ]
     },
     "metadata": {
      "needs_background": "light"
     },
     "output_type": "display_data"
    }
   ],
   "source": [
    "equation = linear_regression(south_hem['Lat'], south_hem['Wind Speed'])\n",
    "annotate(equation, -50, 20)\n",
    "plt.title('Southern Hemisphere - Wind Speed vs. Latitude Linear Regression')\n",
    "plt.xlabel('Latitude')\n",
    "plt.ylabel('Wind Speed (MPH)')\n",
    "\n",
    "plt.savefig('../Images/Southern Hemisphere - Wind Speed vs Lat Linear Regression.png')"
   ]
  },
  {
   "cell_type": "code",
   "execution_count": 48,
   "metadata": {},
   "outputs": [
    {
     "name": "stdout",
     "output_type": "stream",
     "text": [
      "In the Southern Hemisphere, there is relatively little to no corelation between wind speed and latitude.\n"
     ]
    }
   ],
   "source": [
    "print('In the Southern Hemisphere, there is relatively little to no corelation between wind speed and latitude.')"
   ]
  },
  {
   "cell_type": "code",
   "execution_count": 49,
   "metadata": {},
   "outputs": [],
   "source": [
    "# Three observable trends based on the weather data:\n",
    "# 1. There is little relationship between latitude and windspeed of a city regardless of which hemisphere the city is located.\n",
    "# 2. In both the Northern and Southern Hemispheres, the more the city's latitude moves away from 0, the colder the temperature gets.\n",
    "# 3. There is a stronger corelation between cloudiness in the Southern Hemisphere compared to the Northern Hemisphere."
   ]
  }
 ],
 "metadata": {
  "anaconda-cloud": {},
  "kernel_info": {
   "name": "python3"
  },
  "kernelspec": {
   "display_name": "Python [conda env:PythonData] *",
   "language": "python",
   "name": "conda-env-PythonData-py"
  },
  "language_info": {
   "codemirror_mode": {
    "name": "ipython",
    "version": 3
   },
   "file_extension": ".py",
   "mimetype": "text/x-python",
   "name": "python",
   "nbconvert_exporter": "python",
   "pygments_lexer": "ipython3",
   "version": "3.8.3"
  },
  "latex_envs": {
   "LaTeX_envs_menu_present": true,
   "autoclose": false,
   "autocomplete": true,
   "bibliofile": "biblio.bib",
   "cite_by": "apalike",
   "current_citInitial": 1,
   "eqLabelWithNumbers": true,
   "eqNumInitial": 1,
   "hotkeys": {
    "equation": "Ctrl-E",
    "itemize": "Ctrl-I"
   },
   "labels_anchors": false,
   "latex_user_defs": false,
   "report_style_numbering": false,
   "user_envs_cfg": false
  },
  "nteract": {
   "version": "0.12.3"
  }
 },
 "nbformat": 4,
 "nbformat_minor": 2
}
